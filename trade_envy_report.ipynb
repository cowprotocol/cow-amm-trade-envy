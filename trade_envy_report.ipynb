{
 "cells": [
  {
   "cell_type": "markdown",
   "id": "659475a75dd95cc7",
   "metadata": {},
   "source": [
    "---\n",
    "title: \"Trade Envy Report\"\n",
    "author: \"Thomas Niedermayer\"\n",
    "date: last-modified\n",
    "engine: jupyter\n",
    "execute:\n",
    "  echo: false\n",
    "  enabled: true\n",
    "---"
   ]
  },
  {
   "cell_type": "code",
   "execution_count": 1,
   "id": "initial_id",
   "metadata": {
    "ExecuteTime": {
     "end_time": "2024-12-11T16:38:30.870765Z",
     "start_time": "2024-12-11T16:38:30.866810Z"
    }
   },
   "outputs": [],
   "source": [
    "import pandas as pd\n",
    "from cow_amm_trade_envy.models import Contracts\n",
    "from cow_amm_trade_envy.datasources import get_logs\n",
    "\n",
    "\n",
    "def analyze_surplus(file_path, pool_address):\n",
    "    pool_address = pool_address.lower()\n",
    "\n",
    "    def isin_pool(topic):\n",
    "        assert \"0x\" == pool_address[:2]\n",
    "        return pool_address[2:] in topic\n",
    "\n",
    "    def log_is_used(log):\n",
    "        return any(isin_pool(topic) for topic in log[\"topics\"])\n",
    "\n",
    "    def logs_are_used(logs):\n",
    "        return any(log_is_used(log) for log in logs)\n",
    "\n",
    "    file = pd.read_csv(file_path)\n",
    "\n",
    "    file[\"logs\"] = file[\"call_tx_hash\"].apply(get_logs)\n",
    "    file[\"is_used\"] = file[\"logs\"].apply(logs_are_used)\n",
    "\n",
    "    surplus_unused = file[~file[\"is_used\"]][\"trade_envy\"].sum()\n",
    "    surplus_used = file[file[\"is_used\"]][\"trade_envy\"].sum()\n",
    "\n",
    "    return {\n",
    "        \"total_unused_surplus\": surplus_unused / 10**18,\n",
    "        \"total_used_surplus\": surplus_used / 10**18,\n",
    "    }"
   ]
  },
  {
   "cell_type": "code",
   "execution_count": 2,
   "id": "1a3573e050ca3a2a",
   "metadata": {
    "ExecuteTime": {
     "end_time": "2024-12-11T16:38:30.983151Z",
     "start_time": "2024-12-11T16:38:30.946874Z"
    }
   },
   "outputs": [
    {
     "name": "stdout",
     "output_type": "stream",
     "text": [
      "Total unused surplus: -0.28363438314739253\n",
      "Total used surplus: -0.06673863205965921\n"
     ]
    }
   ],
   "source": [
    "file_path = \"data/cow_amm_missed_surplus.csv\"\n",
    "pool_address = Contracts.USDC_WETH_POOL\n",
    "\n",
    "surplus_results = analyze_surplus(file_path, pool_address)\n",
    "print(f\"Total unused surplus: {surplus_results['total_unused_surplus']}\")\n",
    "print(f\"Total used surplus: {surplus_results['total_used_surplus']}\")"
   ]
  }
 ],
 "metadata": {
  "kernelspec": {
   "display_name": "Python 3",
   "language": "python",
   "name": "python3"
  },
  "language_info": {
   "codemirror_mode": {
    "name": "ipython",
    "version": 3
   },
   "file_extension": ".py",
   "mimetype": "text/x-python",
   "name": "python",
   "nbconvert_exporter": "python",
   "pygments_lexer": "ipython3",
   "version": "3.12.7"
  }
 },
 "nbformat": 4,
 "nbformat_minor": 5
}
